{
  "nbformat": 4,
  "nbformat_minor": 0,
  "metadata": {
    "colab": {
      "name": "AIRPLANE.ipynb",
      "provenance": []
    },
    "kernelspec": {
      "name": "python3",
      "display_name": "Python 3"
    },
    "accelerator": "GPU"
  },
  "cells": [
    {
      "cell_type": "code",
      "metadata": {
        "id": "84n7gamsoayy",
        "colab": {
          "base_uri": "https://localhost:8080/",
          "height": 72
        },
        "outputId": "d7f4ae25-ff8a-4e5d-f774-04481611284a"
      },
      "source": [
        "import pandas as pd\n",
        "import numpy as np\n",
        "import matplotlib.pyplot as plt\n",
        "import seaborn as sns"
      ],
      "execution_count": null,
      "outputs": [
        {
          "output_type": "stream",
          "text": [
            "/usr/local/lib/python3.6/dist-packages/statsmodels/tools/_testing.py:19: FutureWarning: pandas.util.testing is deprecated. Use the functions in the public API at pandas.testing instead.\n",
            "  import pandas.util.testing as tm\n"
          ],
          "name": "stderr"
        }
      ]
    },
    {
      "cell_type": "code",
      "metadata": {
        "id": "t5mf81FaowB3",
        "colab": {
          "base_uri": "https://localhost:8080/",
          "height": 191
        },
        "outputId": "7fd8db4e-d83d-445d-85b2-0a81d4270983"
      },
      "source": [
        "df = pd.read_csv('AirplaneAccident.csv')\n",
        "df.head(4)"
      ],
      "execution_count": null,
      "outputs": [
        {
          "output_type": "execute_result",
          "data": {
            "text/html": [
              "<div>\n",
              "<style scoped>\n",
              "    .dataframe tbody tr th:only-of-type {\n",
              "        vertical-align: middle;\n",
              "    }\n",
              "\n",
              "    .dataframe tbody tr th {\n",
              "        vertical-align: top;\n",
              "    }\n",
              "\n",
              "    .dataframe thead th {\n",
              "        text-align: right;\n",
              "    }\n",
              "</style>\n",
              "<table border=\"1\" class=\"dataframe\">\n",
              "  <thead>\n",
              "    <tr style=\"text-align: right;\">\n",
              "      <th></th>\n",
              "      <th>Severity</th>\n",
              "      <th>Safety_Score</th>\n",
              "      <th>Days_Since_Inspection</th>\n",
              "      <th>Total_Safety_Complaints</th>\n",
              "      <th>Control_Metric</th>\n",
              "      <th>Turbulence_In_gforces</th>\n",
              "      <th>Cabin_Temperature</th>\n",
              "      <th>Accident_Type_Code</th>\n",
              "      <th>Max_Elevation</th>\n",
              "      <th>Violations</th>\n",
              "      <th>Adverse_Weather_Metric</th>\n",
              "      <th>Accident_ID</th>\n",
              "    </tr>\n",
              "  </thead>\n",
              "  <tbody>\n",
              "    <tr>\n",
              "      <th>0</th>\n",
              "      <td>Minor_Damage_And_Injuries</td>\n",
              "      <td>49.223744</td>\n",
              "      <td>14</td>\n",
              "      <td>22</td>\n",
              "      <td>71.285324</td>\n",
              "      <td>0.272118</td>\n",
              "      <td>78.04</td>\n",
              "      <td>2</td>\n",
              "      <td>31335.47682</td>\n",
              "      <td>3</td>\n",
              "      <td>0.424352</td>\n",
              "      <td>7570</td>\n",
              "    </tr>\n",
              "    <tr>\n",
              "      <th>1</th>\n",
              "      <td>Minor_Damage_And_Injuries</td>\n",
              "      <td>62.465753</td>\n",
              "      <td>10</td>\n",
              "      <td>27</td>\n",
              "      <td>72.288058</td>\n",
              "      <td>0.423939</td>\n",
              "      <td>84.54</td>\n",
              "      <td>2</td>\n",
              "      <td>26024.71106</td>\n",
              "      <td>2</td>\n",
              "      <td>0.352350</td>\n",
              "      <td>12128</td>\n",
              "    </tr>\n",
              "    <tr>\n",
              "      <th>2</th>\n",
              "      <td>Significant_Damage_And_Fatalities</td>\n",
              "      <td>63.059361</td>\n",
              "      <td>13</td>\n",
              "      <td>16</td>\n",
              "      <td>66.362808</td>\n",
              "      <td>0.322604</td>\n",
              "      <td>78.86</td>\n",
              "      <td>7</td>\n",
              "      <td>39269.05393</td>\n",
              "      <td>3</td>\n",
              "      <td>0.003364</td>\n",
              "      <td>2181</td>\n",
              "    </tr>\n",
              "    <tr>\n",
              "      <th>3</th>\n",
              "      <td>Significant_Damage_And_Serious_Injuries</td>\n",
              "      <td>48.082192</td>\n",
              "      <td>11</td>\n",
              "      <td>9</td>\n",
              "      <td>74.703737</td>\n",
              "      <td>0.337029</td>\n",
              "      <td>81.79</td>\n",
              "      <td>3</td>\n",
              "      <td>42771.49920</td>\n",
              "      <td>1</td>\n",
              "      <td>0.211728</td>\n",
              "      <td>5946</td>\n",
              "    </tr>\n",
              "  </tbody>\n",
              "</table>\n",
              "</div>"
            ],
            "text/plain": [
              "                                  Severity  ...  Accident_ID\n",
              "0                Minor_Damage_And_Injuries  ...         7570\n",
              "1                Minor_Damage_And_Injuries  ...        12128\n",
              "2        Significant_Damage_And_Fatalities  ...         2181\n",
              "3  Significant_Damage_And_Serious_Injuries  ...         5946\n",
              "\n",
              "[4 rows x 12 columns]"
            ]
          },
          "metadata": {
            "tags": []
          },
          "execution_count": 2
        }
      ]
    },
    {
      "cell_type": "code",
      "metadata": {
        "id": "YMZgD5FopA49"
      },
      "source": [
        "df = df.drop(['Accident_ID'] , axis=1) # Axis 1 specifies coloumn"
      ],
      "execution_count": null,
      "outputs": []
    },
    {
      "cell_type": "code",
      "metadata": {
        "id": "0v7Q4OjepD_U"
      },
      "source": [
        "y = df.iloc[: , 0].values"
      ],
      "execution_count": null,
      "outputs": []
    },
    {
      "cell_type": "code",
      "metadata": {
        "id": "wgVHMNwAqvcV"
      },
      "source": [
        "X = df.iloc[: , 1:].values"
      ],
      "execution_count": null,
      "outputs": []
    },
    {
      "cell_type": "code",
      "metadata": {
        "id": "dPfjmbzrqyKl",
        "colab": {
          "base_uri": "https://localhost:8080/",
          "height": 69
        },
        "outputId": "b205b4c2-a665-4428-a38e-7a8d3a960d01"
      },
      "source": [
        "from sklearn.preprocessing import LabelEncoder\n",
        "labelencoder_y = LabelEncoder()\n",
        "y = labelencoder_y.fit_transform(y)\n",
        "df['Severity'].unique()"
      ],
      "execution_count": null,
      "outputs": [
        {
          "output_type": "execute_result",
          "data": {
            "text/plain": [
              "array(['Minor_Damage_And_Injuries', 'Significant_Damage_And_Fatalities',\n",
              "       'Significant_Damage_And_Serious_Injuries',\n",
              "       'Highly_Fatal_And_Damaging'], dtype=object)"
            ]
          },
          "metadata": {
            "tags": []
          },
          "execution_count": 6
        }
      ]
    },
    {
      "cell_type": "code",
      "metadata": {
        "id": "__cl0H1HrB4V",
        "colab": {
          "base_uri": "https://localhost:8080/",
          "height": 243
        },
        "outputId": "66d5d245-8ac6-4341-cc14-5c2d780d99bd"
      },
      "source": [
        "print(y[0:5])\n",
        "print(df['Severity'])"
      ],
      "execution_count": null,
      "outputs": [
        {
          "output_type": "stream",
          "text": [
            "[1 1 2 3 2]\n",
            "0                     Minor_Damage_And_Injuries\n",
            "1                     Minor_Damage_And_Injuries\n",
            "2             Significant_Damage_And_Fatalities\n",
            "3       Significant_Damage_And_Serious_Injuries\n",
            "4             Significant_Damage_And_Fatalities\n",
            "                         ...                   \n",
            "9995    Significant_Damage_And_Serious_Injuries\n",
            "9996                  Highly_Fatal_And_Damaging\n",
            "9997    Significant_Damage_And_Serious_Injuries\n",
            "9998                  Minor_Damage_And_Injuries\n",
            "9999                  Highly_Fatal_And_Damaging\n",
            "Name: Severity, Length: 10000, dtype: object\n"
          ],
          "name": "stdout"
        }
      ]
    },
    {
      "cell_type": "code",
      "metadata": {
        "id": "jxz8rCBcrTeO",
        "colab": {
          "base_uri": "https://localhost:8080/",
          "height": 35
        },
        "outputId": "d5aa0dd9-b251-4b55-86ac-5abe24bb5b80"
      },
      "source": [
        "print(y[9995:10000])"
      ],
      "execution_count": null,
      "outputs": [
        {
          "output_type": "stream",
          "text": [
            "[3 0 3 1 0]\n"
          ],
          "name": "stdout"
        }
      ]
    },
    {
      "cell_type": "code",
      "metadata": {
        "id": "_v5CtW6Wr2G0"
      },
      "source": [
        "from sklearn.model_selection import train_test_split\n",
        "X_train , X_test , y_train , y_test = train_test_split(X , y , test_size = 0.25 ,random_state = 0 )"
      ],
      "execution_count": null,
      "outputs": []
    },
    {
      "cell_type": "code",
      "metadata": {
        "id": "ZjAwixzBsMs1",
        "colab": {
          "base_uri": "https://localhost:8080/",
          "height": 121
        },
        "outputId": "f6cf8b24-796b-4251-aff3-90c4f64196a9"
      },
      "source": [
        "from sklearn.tree import DecisionTreeClassifier\n",
        "classifier = DecisionTreeClassifier(criterion = 'entropy' , random_state=0)\n",
        "classifier.fit(X_train,y_train)"
      ],
      "execution_count": null,
      "outputs": [
        {
          "output_type": "execute_result",
          "data": {
            "text/plain": [
              "DecisionTreeClassifier(ccp_alpha=0.0, class_weight=None, criterion='entropy',\n",
              "                       max_depth=None, max_features=None, max_leaf_nodes=None,\n",
              "                       min_impurity_decrease=0.0, min_impurity_split=None,\n",
              "                       min_samples_leaf=1, min_samples_split=2,\n",
              "                       min_weight_fraction_leaf=0.0, presort='deprecated',\n",
              "                       random_state=0, splitter='best')"
            ]
          },
          "metadata": {
            "tags": []
          },
          "execution_count": 13
        }
      ]
    },
    {
      "cell_type": "code",
      "metadata": {
        "id": "NeL0I0jLsYQc"
      },
      "source": [
        "y_predictions = classifier.predict(X_test)"
      ],
      "execution_count": null,
      "outputs": []
    },
    {
      "cell_type": "code",
      "metadata": {
        "id": "_ln00f-isb2U"
      },
      "source": [
        "from sklearn.metrics import classification_report , confusion_matrix\n",
        "from sklearn.model_selection import cross_val_score"
      ],
      "execution_count": null,
      "outputs": []
    },
    {
      "cell_type": "code",
      "metadata": {
        "id": "Grx-wCfPsgM0",
        "colab": {
          "base_uri": "https://localhost:8080/",
          "height": 277
        },
        "outputId": "0ab2ac47-9ee4-4b08-8862-1bf83849fba9"
      },
      "source": [
        "print(confusion_matrix(y_test,y_predictions))\n",
        "print(classification_report(y_test,y_predictions))"
      ],
      "execution_count": null,
      "outputs": [
        {
          "output_type": "stream",
          "text": [
            "[[697  22  13  22]\n",
            " [ 20 583  10  14]\n",
            " [ 17  12 382   6]\n",
            " [ 16  24   4 658]]\n",
            "              precision    recall  f1-score   support\n",
            "\n",
            "           0       0.93      0.92      0.93       754\n",
            "           1       0.91      0.93      0.92       627\n",
            "           2       0.93      0.92      0.92       417\n",
            "           3       0.94      0.94      0.94       702\n",
            "\n",
            "    accuracy                           0.93      2500\n",
            "   macro avg       0.93      0.93      0.93      2500\n",
            "weighted avg       0.93      0.93      0.93      2500\n",
            "\n"
          ],
          "name": "stdout"
        }
      ]
    },
    {
      "cell_type": "code",
      "metadata": {
        "id": "W6I7gH-jsjA0"
      },
      "source": [
        "from sklearn.ensemble import RandomForestClassifier"
      ],
      "execution_count": null,
      "outputs": []
    },
    {
      "cell_type": "code",
      "metadata": {
        "id": "xMJWhImJsxK8",
        "colab": {
          "base_uri": "https://localhost:8080/",
          "height": 156
        },
        "outputId": "8ab30cef-0e2d-477d-d646-02d9b1396f15"
      },
      "source": [
        "rfr = RandomForestClassifier(criterion = 'entropy' , random_state=0)\n",
        "rfr.fit(X_train , y_train)"
      ],
      "execution_count": null,
      "outputs": [
        {
          "output_type": "execute_result",
          "data": {
            "text/plain": [
              "RandomForestClassifier(bootstrap=True, ccp_alpha=0.0, class_weight=None,\n",
              "                       criterion='entropy', max_depth=None, max_features='auto',\n",
              "                       max_leaf_nodes=None, max_samples=None,\n",
              "                       min_impurity_decrease=0.0, min_impurity_split=None,\n",
              "                       min_samples_leaf=1, min_samples_split=2,\n",
              "                       min_weight_fraction_leaf=0.0, n_estimators=100,\n",
              "                       n_jobs=None, oob_score=False, random_state=0, verbose=0,\n",
              "                       warm_start=False)"
            ]
          },
          "metadata": {
            "tags": []
          },
          "execution_count": 27
        }
      ]
    },
    {
      "cell_type": "code",
      "metadata": {
        "id": "7S22tqM3s9rz"
      },
      "source": [
        "predictions_rfr = rfr.predict(X_test)"
      ],
      "execution_count": null,
      "outputs": []
    },
    {
      "cell_type": "code",
      "metadata": {
        "id": "O7SRG4PAtCzk",
        "colab": {
          "base_uri": "https://localhost:8080/",
          "height": 277
        },
        "outputId": "60922db4-5c91-4ba4-db74-cc1a2855d2f9"
      },
      "source": [
        "print(confusion_matrix(y_test,(predictions_rfr)))\n",
        "print(classification_report(y_test,predictions_rfr))"
      ],
      "execution_count": null,
      "outputs": [
        {
          "output_type": "stream",
          "text": [
            "[[706  23  15  10]\n",
            " [ 19 582  14  12]\n",
            " [  5  22 382   8]\n",
            " [ 26  20   3 653]]\n",
            "              precision    recall  f1-score   support\n",
            "\n",
            "           0       0.93      0.94      0.94       754\n",
            "           1       0.90      0.93      0.91       627\n",
            "           2       0.92      0.92      0.92       417\n",
            "           3       0.96      0.93      0.94       702\n",
            "\n",
            "    accuracy                           0.93      2500\n",
            "   macro avg       0.93      0.93      0.93      2500\n",
            "weighted avg       0.93      0.93      0.93      2500\n",
            "\n"
          ],
          "name": "stdout"
        }
      ]
    },
    {
      "cell_type": "code",
      "metadata": {
        "id": "ktuQcgXTtMcs"
      },
      "source": [
        "from sklearn.metrics import accuracy_score\n",
        "def get_accuracy(max_leaf_nodes , X_train , y_train , X_test , y_test):\n",
        "  dtree = RandomForestClassifier(max_leaf_nodes=max_leaf_nodes , random_state=0)\n",
        "  dtree.fit(X_train , y_train)\n",
        "  preds = dtree.predict(X_test)\n",
        "  score = accuracy_score(y_test , preds)\n",
        "  return score"
      ],
      "execution_count": null,
      "outputs": []
    },
    {
      "cell_type": "code",
      "metadata": {
        "id": "1EsLDjAAvnRm",
        "colab": {
          "base_uri": "https://localhost:8080/",
          "height": 52
        },
        "outputId": "cf020a97-0ced-4d0f-8850-e983e39a185a"
      },
      "source": [
        "leaf_nodes_list = [100 , 150 ,200 , 250 , 300 , 350 , 400 ,450 , 500]\n",
        "accuracy = []\n",
        "for leafs in leaf_nodes_list:\n",
        "  auc = get_accuracy(leafs,X_train,y_train,X_test,y_test)\n",
        "  accuracy.append(auc)\n",
        "\n",
        "bestleaf = leaf_nodes_list[accuracy.index(max(accuracy))]\n",
        "print(accuracy)\n",
        "print(bestleaf)"
      ],
      "execution_count": null,
      "outputs": [
        {
          "output_type": "stream",
          "text": [
            "[0.8488, 0.8656, 0.8812, 0.8856, 0.8872, 0.8916, 0.896, 0.9028, 0.9056]\n",
            "500\n"
          ],
          "name": "stdout"
        }
      ]
    },
    {
      "cell_type": "code",
      "metadata": {
        "id": "lfm9ssY-wazX"
      },
      "source": [
        "final_model = DecisionTreeClassifier(max_leaf_nodes=150 , criterion = 'entropy' , random_state = 0)"
      ],
      "execution_count": null,
      "outputs": []
    },
    {
      "cell_type": "code",
      "metadata": {
        "id": "cUSNmH40ydYW",
        "colab": {
          "base_uri": "https://localhost:8080/",
          "height": 121
        },
        "outputId": "b9512cdf-d356-4839-c5ac-8ff390e2906d"
      },
      "source": [
        "final_model.fit(X,y)"
      ],
      "execution_count": null,
      "outputs": [
        {
          "output_type": "execute_result",
          "data": {
            "text/plain": [
              "DecisionTreeClassifier(ccp_alpha=0.0, class_weight=None, criterion='entropy',\n",
              "                       max_depth=None, max_features=None, max_leaf_nodes=150,\n",
              "                       min_impurity_decrease=0.0, min_impurity_split=None,\n",
              "                       min_samples_leaf=1, min_samples_split=2,\n",
              "                       min_weight_fraction_leaf=0.0, presort='deprecated',\n",
              "                       random_state=0, splitter='best')"
            ]
          },
          "metadata": {
            "tags": []
          },
          "execution_count": 47
        }
      ]
    },
    {
      "cell_type": "code",
      "metadata": {
        "id": "dlGPuttayhHU"
      },
      "source": [
        "import pickle"
      ],
      "execution_count": null,
      "outputs": []
    },
    {
      "cell_type": "code",
      "metadata": {
        "id": "bIgrgoO5yu3b"
      },
      "source": [
        "Pkl_Filename = \"Pickle_RL_Model.pkl\"  \n",
        "\n",
        "with open(Pkl_Filename, 'wb') as file:  \n",
        "    pickle.dump(final_model, file)"
      ],
      "execution_count": null,
      "outputs": []
    },
    {
      "cell_type": "code",
      "metadata": {
        "id": "WH7THy4qzDNr",
        "colab": {
          "base_uri": "https://localhost:8080/",
          "height": 243
        },
        "outputId": "b1903dee-e87a-4222-c822-5e8d81fae03f"
      },
      "source": [
        "X"
      ],
      "execution_count": null,
      "outputs": [
        {
          "output_type": "execute_result",
          "data": {
            "text/plain": [
              "array([[4.92237443e+01, 1.40000000e+01, 2.20000000e+01, ...,\n",
              "        3.13354768e+04, 3.00000000e+00, 4.24352083e-01],\n",
              "       [6.24657534e+01, 1.00000000e+01, 2.70000000e+01, ...,\n",
              "        2.60247111e+04, 2.00000000e+00, 3.52349973e-01],\n",
              "       [6.30593607e+01, 1.30000000e+01, 1.60000000e+01, ...,\n",
              "        3.92690539e+04, 3.00000000e+00, 3.36390700e-03],\n",
              "       ...,\n",
              "       [2.78538813e+01, 1.70000000e+01, 1.00000000e+00, ...,\n",
              "        3.37719963e+04, 3.00000000e+00, 1.68173043e-01],\n",
              "       [5.62100457e+01, 8.00000000e+00, 0.00000000e+00, ...,\n",
              "        3.98204192e+04, 2.00000000e+00, 2.63809290e-02],\n",
              "       [5.00000000e+01, 1.30000000e+01, 3.00000000e+00, ...,\n",
              "        2.60053230e+04, 2.00000000e+00, 1.70358910e-02]])"
            ]
          },
          "metadata": {
            "tags": []
          },
          "execution_count": 50
        }
      ]
    },
    {
      "cell_type": "code",
      "metadata": {
        "id": "Xofe8o0Q1HNi",
        "colab": {
          "base_uri": "https://localhost:8080/",
          "height": 69
        },
        "outputId": "a23f69e5-6d39-45b1-f17b-89865c6e3433"
      },
      "source": [
        "X[0]"
      ],
      "execution_count": null,
      "outputs": [
        {
          "output_type": "execute_result",
          "data": {
            "text/plain": [
              "array([4.92237443e+01, 1.40000000e+01, 2.20000000e+01, 7.12853236e+01,\n",
              "       2.72117562e-01, 7.80400000e+01, 2.00000000e+00, 3.13354768e+04,\n",
              "       3.00000000e+00, 4.24352083e-01])"
            ]
          },
          "metadata": {
            "tags": []
          },
          "execution_count": 53
        }
      ]
    },
    {
      "cell_type": "code",
      "metadata": {
        "id": "v0taMOVm1PLt"
      },
      "source": [
        ""
      ],
      "execution_count": null,
      "outputs": []
    }
  ]
}